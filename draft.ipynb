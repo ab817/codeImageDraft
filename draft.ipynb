{
 "cells": [
  {
   "cell_type": "code",
   "execution_count": null,
   "id": "e455f70c-770f-4613-856a-38b8e8090918",
   "metadata": {},
   "outputs": [],
   "source": [
    "# Split the data into training and validation sets\n",
    "\n",
    "# the train size and test size or validation size is 80: 20 respectively \n",
    "# We can modify it.\n",
    "train_df, valid_df = train_test_split(df, test_size=0.2, stratify=df['choice'], random_state=42)"
   ]
  },
  {
   "cell_type": "code",
   "execution_count": null,
   "id": "a97d0e1a-2123-43f1-9a52-997e3dc7b838",
   "metadata": {},
   "outputs": [],
   "source": [
    "\n",
    "train_datagen = ImageDataGenerator(rescale=1./255, shear_range=0.2, zoom_range=0.2, horizontal_flip=True)\n",
    "valid_datagen = ImageDataGenerator(rescale=1./255)\n",
    "\n",
    "\n",
    "# batch size and target size can also modified ????????\n",
    "batch_size = 32\n",
    "target_size = (128, 128)  \n",
    "\n",
    "\n",
    "train_generator = train_datagen.flow_from_dataframe(dataframe=train_df,\n",
    "                                                    x_col='image_path',\n",
    "                                                    y_col='choice',\n",
    "                                                    target_size=target_size,\n",
    "                                                    batch_size=batch_size,\n",
    "                                                    class_mode='categorical')\n",
    "\n",
    "\n",
    "valid_generator = valid_datagen.flow_from_dataframe(dataframe=valid_df,\n",
    "                                                    x_col='image_path',\n",
    "                                                    y_col='choice',\n",
    "                                                    target_size=target_size,\n",
    "                                                    batch_size=batch_size,\n",
    "                                                    class_mode='categorical')"
   ]
  },
  {
   "cell_type": "code",
   "execution_count": null,
   "id": "9e4a10a2-a084-498d-9743-a1f5ce3e825f",
   "metadata": {},
   "outputs": [],
   "source": [
    "#model architecture do check if we can modify it\n",
    "\n",
    "model = Sequential()\n",
    "model.add(Conv2D(32, (3, 3), activation='relu', input_shape=(target_size[0], target_size[1], 3)))\n",
    "model.add(MaxPooling2D(pool_size=(2, 2)))\n",
    "model.add(Conv2D(64, (3, 3), activation='relu'))\n",
    "model.add(MaxPooling2D(pool_size=(2, 2)))\n",
    "model.add(Flatten())\n",
    "model.add(Dense(64, activation='relu'))\n",
    "model.add(Dense(num_classes, activation='softmax'))\n",
    "\n",
    "model.compile(optimizer='adam', loss='categorical_crossentropy', metrics=['accuracy'])\n"
   ]
  },
  {
   "cell_type": "code",
   "execution_count": null,
   "id": "8aa9fc1d-c9da-4acd-88e5-649ce397f264",
   "metadata": {},
   "outputs": [],
   "source": [
    "# Train the model with early stopping\n",
    "history = model.fit(\n",
    "    train_generator,\n",
    "    validation_data=valid_generator,\n",
    "    epochs=50  # You can adjust the number of epochs\n",
    "    #callbacks=[early_stopping]  # Include the early stopping callback\n",
    ")"
   ]
  },
  {
   "cell_type": "code",
   "execution_count": null,
   "id": "e57c8ccb-729b-469a-960f-f1b7d4426406",
   "metadata": {},
   "outputs": [],
   "source": [
    "train_accuracy = model.evaluate(train_generator)[1]\n",
    "val_accuracy = model.evaluate(valid_generator)[1]\n",
    "print(f'Training Accuracy: {train_accuracy * 100:.2f}%')\n",
    "print(f'Validation Accuracy: {val_accuracy * 100:.2f}%')"
   ]
  }
 ],
 "metadata": {
  "kernelspec": {
   "display_name": "Python 3 (ipykernel)",
   "language": "python",
   "name": "python3"
  },
  "language_info": {
   "codemirror_mode": {
    "name": "ipython",
    "version": 3
   },
   "file_extension": ".py",
   "mimetype": "text/x-python",
   "name": "python",
   "nbconvert_exporter": "python",
   "pygments_lexer": "ipython3",
   "version": "3.11.5"
  }
 },
 "nbformat": 4,
 "nbformat_minor": 5
}
